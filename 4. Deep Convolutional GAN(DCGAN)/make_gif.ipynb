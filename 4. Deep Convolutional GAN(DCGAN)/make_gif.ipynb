{
  "nbformat": 4,
  "nbformat_minor": 0,
  "metadata": {
    "colab": {
      "name": "make_gif.ipynb",
      "provenance": [],
      "collapsed_sections": []
    },
    "kernelspec": {
      "name": "python3",
      "display_name": "Python 3"
    },
    "language_info": {
      "name": "python"
    }
  },
  "cells": [
    {
      "cell_type": "code",
      "metadata": {
        "id": "a-rRgXhrlMQq"
      },
      "source": [
        "import imageio\n",
        "import os\n",
        "import numpy as np\n",
        "\n",
        "# main location\n",
        "main_loc = '/content/drive/MyDrive/DCGAN_Result/2021-03-25-14:11'\n",
        "\n",
        "# image file list\n",
        "img_file_lst = []\n",
        "\n",
        "# file location list\n",
        "file_loc = os.listdir(os.path.join(main_loc, 'images'))\n",
        "\n",
        "# for all files in file location\n",
        "for file_name in file_loc:\n",
        "    img_file_lst.append(file_name)\n",
        "\n",
        "\n",
        "images = []\n",
        "\n",
        "# update limitation as 10MB, select 130 images.\n",
        "for file_name in img_file_lst[:130]:\n",
        "    images.append(imageio.imread(os.path.join(main_loc, 'images', file_name)))\n",
        "\n",
        "\n",
        "# fps means transition speed in gif file.\n",
        "imageio.mimsave('/content/result2021-03-25-14:11_short.gif', images, fps = 7)"
      ],
      "execution_count": null,
      "outputs": []
    }
  ]
}