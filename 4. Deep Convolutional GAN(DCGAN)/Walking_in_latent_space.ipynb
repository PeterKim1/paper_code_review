{
  "nbformat": 4,
  "nbformat_minor": 0,
  "metadata": {
    "colab": {
      "name": "Walking_in_latent_space.ipynb",
      "provenance": [],
      "collapsed_sections": []
    },
    "kernelspec": {
      "name": "python3",
      "display_name": "Python 3"
    },
    "language_info": {
      "name": "python"
    },
    "accelerator": "GPU"
  },
  "cells": [
    {
      "cell_type": "code",
      "metadata": {
        "id": "KBTvp_tVEu83"
      },
      "source": [
        "from torch.utils.tensorboard import SummaryWriter\n",
        "import os\n",
        "import random\n",
        "import torch\n",
        "import torch.nn as nn\n",
        "import torch.optim as optim\n",
        "import torch.utils.data\n",
        "import torchvision.datasets as dset\n",
        "import torchvision.transforms as transforms\n",
        "import torchvision.utils as vutils\n",
        "import datetime\n",
        "import torch.backends.cudnn as cudnn\n",
        "import shutil\n",
        "\n",
        "USE_CUDA = torch.cuda.is_available()\n",
        "device = torch.device(\"cuda\" if USE_CUDA else \"cpu\")\n",
        "latent_size = 100 # latent_size\n",
        "hidden_g = 64 # The number of hidden node of generator\n",
        "hidden_d = 64 # The number of hidden node of discriminator\n",
        "\n",
        "# Generator\n",
        "class Generator(nn.Module):\n",
        "    def __init__(self):\n",
        "        super(Generator, self).__init__()\n",
        "        self.main = nn.Sequential(\n",
        "            # input is (batch, latent_size, 1, 1)\n",
        "            nn.ConvTranspose2d(latent_size, hidden_g * 8, 4, 1, 0, bias=False), # (batch, latent_size, 1, 1) => (batch, 512, 4, 4)\n",
        "            nn.BatchNorm2d(hidden_g * 8),\n",
        "            nn.ReLU(False),\n",
        "            nn.ConvTranspose2d(hidden_g * 8, hidden_g * 4, 4, 2, 1, bias=False), # (batch, 512, 4, 4) => (batch, 256, 8, 8)\n",
        "            nn.BatchNorm2d(hidden_g * 4),\n",
        "            nn.ReLU(False),\n",
        "            nn.ConvTranspose2d(hidden_g * 4, hidden_g * 2, 4, 2, 1, bias=False), # (batch, 256, 8, 8) => (batch, 128, 16, 16)\n",
        "            nn.BatchNorm2d(hidden_g * 2),\n",
        "            nn.ReLU(False),\n",
        "            nn.ConvTranspose2d(hidden_g * 2, hidden_g, 4, 2, 1, bias=False), # (batch, 128, 16, 16) => (batch, 64, 32, 32)\n",
        "            nn.BatchNorm2d(hidden_g),\n",
        "            nn.ReLU(False),\n",
        "            nn.ConvTranspose2d(hidden_g,      1, 4, 2, 1, bias=False), # (batch, 64, 32, 32) => (batch, 1, 64, 64)\n",
        "            nn.Tanh()\n",
        "        )\n",
        "\n",
        "    def forward(self, input):\n",
        "        output = self.main(input)\n",
        "        return output\n",
        "\n",
        "\n",
        "netG = Generator().to(device)\n",
        "\n",
        "# Discriminator\n",
        "class Discriminator(nn.Module):\n",
        "    def __init__(self):\n",
        "        super(Discriminator, self).__init__()\n",
        "        self.main = nn.Sequential(\n",
        "            # input is (batch, 1, 64, 64)\n",
        "            nn.Conv2d(1, hidden_d, 4, 2, 1, bias=False), # (batch, 1, 64, 64) => (batch, 64, 32, 32)\n",
        "            nn.LeakyReLU(0.2, inplace=False),\n",
        "            nn.Conv2d(hidden_d, hidden_d * 2, 4, 2, 1, bias=False), # (batch, 64, 32, 32) => (batch, 128, 16, 16)\n",
        "            nn.BatchNorm2d(hidden_d * 2),\n",
        "            nn.LeakyReLU(0.2, inplace=False),\n",
        "            nn.Conv2d(hidden_d * 2, hidden_d * 4, 4, 2, 1, bias=False), # (batch, 128, 16, 16) => (batch, 256, 8, 8)\n",
        "            nn.BatchNorm2d(hidden_d * 4),\n",
        "            nn.LeakyReLU(0.2, inplace=False),\n",
        "            nn.Conv2d(hidden_d * 4, hidden_d * 8, 4, 2, 1, bias=False), # (batch, 256, 8, 8) => (batch, 512, 4, 4)\n",
        "            nn.BatchNorm2d(hidden_d * 8),\n",
        "            nn.LeakyReLU(0.2, inplace=False),\n",
        "            nn.Conv2d(hidden_d * 8, 1, 4, 1, 0, bias=False), # (batch, 512, 4, 4) => (batch, 1, 1, 1)\n",
        "            nn.Sigmoid()\n",
        "        )\n",
        "\n",
        "    def forward(self, input):\n",
        "        output = self.main(input)\n",
        "        return output.view(-1, 1).squeeze(1)\n",
        "\n",
        "\n",
        "netD = Discriminator().to(device)"
      ],
      "execution_count": null,
      "outputs": []
    },
    {
      "cell_type": "code",
      "metadata": {
        "colab": {
          "base_uri": "https://localhost:8080/"
        },
        "id": "bgmEYK6sEyLt",
        "outputId": "19c91c03-1a7d-47ed-9ef7-39632d046023"
      },
      "source": [
        "netG.load_state_dict(torch.load('/content/drive/MyDrive/DCGAN_Result/2021-03-25-18:07/weights/netG_epoch_25.pth'))\n",
        "netD.load_state_dict(torch.load('/content/drive/MyDrive/DCGAN_Result/2021-03-25-18:07/weights/netD_epoch_25.pth'))"
      ],
      "execution_count": null,
      "outputs": [
        {
          "output_type": "execute_result",
          "data": {
            "text/plain": [
              "<All keys matched successfully>"
            ]
          },
          "metadata": {
            "tags": []
          },
          "execution_count": 5
        }
      ]
    },
    {
      "cell_type": "code",
      "metadata": {
        "id": "qpPVUyp7JpPB"
      },
      "source": [
        "import torchvision\n",
        "import matplotlib.pyplot as plt\n",
        "import numpy as np\n",
        "\n",
        "def imshow_grid(img):\n",
        "    img = torchvision.utils.make_grid(img.cpu().detach(), nrow = 10)\n",
        "    img = (img + 1) / 2\n",
        "    npimg = img.numpy()\n",
        "    plt.imshow(np.transpose(npimg, (1, 2, 0)))\n",
        "    ax = plt.gca()\n",
        "    ax.axes.xaxis.set_visible(False)\n",
        "    ax.axes.yaxis.set_visible(False)\n",
        "    plt.show()"
      ],
      "execution_count": null,
      "outputs": []
    },
    {
      "cell_type": "code",
      "metadata": {
        "colab": {
          "base_uri": "https://localhost:8080/",
          "height": 69
        },
        "id": "XVjhviFJNb5Z",
        "outputId": "7429e620-c108-4a7b-d506-22869fde3c84"
      },
      "source": [
        "n_sample = 2\n",
        "\n",
        "# generate points in the latent space\n",
        "x_input = np.random.randn(latent_size * n_sample)\n",
        "# reshape into a batch of inputs for the network\n",
        "z_input = x_input.reshape(n_sample, latent_size)\n",
        "\n",
        "\n",
        "def interpolate_points(p1, p2, n_steps = 10):\n",
        "    ratios = np.linspace(0, 1, num = n_steps)\n",
        "    vectors = list()\n",
        "    for ratio in ratios:\n",
        "        v = (1.0 - ratio) * p1 + ratio * p2\n",
        "        vectors.append(v)\n",
        "    return np.asarray(vectors)\n",
        "\n",
        "# z_input[0] => (1, 100)\n",
        "interpolated = interpolate_points(z_input[0], z_input[1]) # (10 ,100)\n",
        "\n",
        "torch_z = torch.Tensor(interpolated)\n",
        "\n",
        "inter_result = netG(torch_z.view(10, 100, 1, 1).to(device))\n",
        "\n",
        "imshow_grid(inter_result)\n",
        "\n"
      ],
      "execution_count": null,
      "outputs": [
        {
          "output_type": "display_data",
          "data": {
            "image/png": "[encoded data removed]",
            "text/plain": [
              "<Figure size 432x288 with 1 Axes>"
            ]
          },
          "metadata": {
            "tags": [],
            "needs_background": "light"
          }
        }
      ]
    },
    {
      "cell_type": "code",
      "metadata": {
        "colab": {
          "base_uri": "https://localhost:8080/"
        },
        "id": "SkGbFxrOombz",
        "outputId": "45dd1103-9d29-4606-8315-b93add01bdc7"
      },
      "source": [
        "print(inter_result.shape)"
      ],
      "execution_count": null,
      "outputs": [
        {
          "output_type": "stream",
          "text": [
            "torch.Size([10, 1, 64, 64])\n"
          ],
          "name": "stdout"
        }
      ]
    },
    {
      "cell_type": "code",
      "metadata": {
        "id": "VsQGjLxCos7Y"
      },
      "source": [
        "torchvision.utils.save_image(inter_result, \"latent2.png\", normalize = True, nrow = 10)"
      ],
      "execution_count": null,
      "outputs": []
    }
  ]
}