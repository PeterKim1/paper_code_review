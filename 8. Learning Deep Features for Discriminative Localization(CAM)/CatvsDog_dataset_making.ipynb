{
 "cells": [
  {
   "cell_type": "code",
   "execution_count": 2,
   "id": "ea12d03c",
   "metadata": {},
   "outputs": [],
   "source": [
    "import os\n",
    "import zipfile\n",
    "import shutil\n",
    "from tqdm.auto import tqdm\n",
    "\n",
    "# train.zip 파일을 받은 위치를 지정해주세요.\n",
    "train_zip_dir = os.path.join(os.getcwd(), 'train.zip')\n",
    "\n",
    "# zip 파일 압축 해제\n",
    "with zipfile.ZipFile(train_zip_dir, 'r') as z:\n",
    "    z.extractall()"
   ]
  },
  {
   "cell_type": "code",
   "execution_count": 8,
   "id": "bae4cf58",
   "metadata": {},
   "outputs": [
    {
     "data": {
      "application/vnd.jupyter.widget-view+json": {
       "model_id": "26030c6125d942b89e7bf4edbd57c4e5",
       "version_major": 2,
       "version_minor": 0
      },
      "text/plain": [
       "HBox(children=(IntProgress(value=1, bar_style='info', max=1), HTML(value='')))"
      ]
     },
     "metadata": {},
     "output_type": "display_data"
    },
    {
     "name": "stdout",
     "output_type": "stream",
     "text": [
      "\n"
     ]
    }
   ],
   "source": [
    "# train 데이터셋과 test 데이터셋을 생성하기 위해서 location 설정\n",
    "train_dir = os.path.join(os.getcwd(), 'CatvsDog_train')\n",
    "test_dir = os.path.join(os.getcwd(), 'CatvsDog_test')\n",
    "\n",
    "# 폴더 생성\n",
    "os.mkdir(train_dir)\n",
    "os.mkdir(test_dir)\n",
    "\n",
    "# label directory making\n",
    "os.mkdir(os.path.join(train_dir, '0'))\n",
    "os.mkdir(os.path.join(train_dir, '1'))\n",
    "os.mkdir(os.path.join(test_dir, '0'))\n",
    "os.mkdir(os.path.join(test_dir, '1'))\n",
    "\n",
    "# file name을 list로 저장\n",
    "dog_files = [f'dog.{i}.jpg' for i in range(12500)]\n",
    "cat_files = [f'cat.{i}.jpg' for i in range(12500)]\n",
    "\n",
    "# train 이미지 이동\n",
    "for dog, cat in tqdm(zip(dog_files[:10000], cat_files[:10000])):\n",
    "    # Dog image, Dog = 0 \n",
    "    loc1 = os.path.join(os.getcwd(), 'train', dog)\n",
    "    loc2 = os.path.join(train_dir, '0', dog)\n",
    "    shutil.move(loc1, loc2)\n",
    "    \n",
    "    # Cat image, Cat = 1\n",
    "    loc3 = os.path.join(os.getcwd(), 'train', cat)\n",
    "    loc4 = os.path.join(train_dir, '1', cat)\n",
    "    shutil.move(loc3, loc4)"
   ]
  },
  {
   "cell_type": "code",
   "execution_count": 10,
   "id": "7da2d760",
   "metadata": {},
   "outputs": [
    {
     "name": "stdout",
     "output_type": "stream",
     "text": [
      "10000\n",
      "10000\n"
     ]
    }
   ],
   "source": [
    "# Dog train image\n",
    "print(len(os.listdir(os.path.join(train_dir, '0'))))\n",
    "\n",
    "# Cat train image\n",
    "print(len(os.listdir(os.path.join(train_dir, '1'))))"
   ]
  },
  {
   "cell_type": "code",
   "execution_count": 12,
   "id": "e506f574",
   "metadata": {},
   "outputs": [
    {
     "data": {
      "application/vnd.jupyter.widget-view+json": {
       "model_id": "b22f6ebf407f4680bb807447ac7cb5c2",
       "version_major": 2,
       "version_minor": 0
      },
      "text/plain": [
       "HBox(children=(IntProgress(value=1, bar_style='info', max=1), HTML(value='')))"
      ]
     },
     "metadata": {},
     "output_type": "display_data"
    },
    {
     "name": "stdout",
     "output_type": "stream",
     "text": [
      "\n"
     ]
    }
   ],
   "source": [
    "# test 이미지 이동\n",
    "for dog, cat in tqdm(zip(dog_files[10000:], cat_files[10000:])):\n",
    "    # Dog image, Dog = 0 \n",
    "    loc1 = os.path.join(os.getcwd(), 'train', dog)\n",
    "    loc2 = os.path.join(test_dir, '0', dog)\n",
    "    shutil.move(loc1, loc2)\n",
    "    \n",
    "    # Cat image, Cat = 1\n",
    "    loc3 = os.path.join(os.getcwd(), 'train', cat)\n",
    "    loc4 = os.path.join(test_dir, '1', cat)\n",
    "    shutil.move(loc3, loc4)"
   ]
  },
  {
   "cell_type": "code",
   "execution_count": 14,
   "id": "8cbcd0cc",
   "metadata": {},
   "outputs": [
    {
     "name": "stdout",
     "output_type": "stream",
     "text": [
      "2500\n",
      "2500\n"
     ]
    }
   ],
   "source": [
    "# Dog test image\n",
    "print(len(os.listdir(os.path.join(test_dir, '0'))))\n",
    "\n",
    "# Cat test image\n",
    "print(len(os.listdir(os.path.join(test_dir, '1'))))"
   ]
  }
 ],
 "metadata": {
  "kernelspec": {
   "display_name": "Python 3",
   "language": "python",
   "name": "python3"
  },
  "language_info": {
   "codemirror_mode": {
    "name": "ipython",
    "version": 3
   },
   "file_extension": ".py",
   "mimetype": "text/x-python",
   "name": "python",
   "nbconvert_exporter": "python",
   "pygments_lexer": "ipython3",
   "version": "3.7.4"
  }
 },
 "nbformat": 4,
 "nbformat_minor": 5
}
